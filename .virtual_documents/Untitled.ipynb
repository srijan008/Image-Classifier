import tensorflow 


from keras.layers import Dense,Conv2D, MaxPooling2D, Flatten
from keras.models import Sequential
from tensorflow.keras.preprocessing.image import ImageDataGenerator


cnn = Sequential()





cnn.add(Conv2D(32, (3,3), input_shape = (64, 64, 3), activation = 'relu'))
cnn.add(MaxPooling2D(pool_size=(2, 2)))
cnn.add(Conv2D(16, (3,3), activation = 'relu'))
cnn.add(MaxPooling2D(pool_size=(2, 2)))
cnn.add(Flatten())





cnn.add(Dense(64, activation='relu'))
cnn.add(Dense(32, activation='relu'))
cnn.add(Dense(16, activation='relu'))
cnn.add(Dense(8, activation='relu'))
cnn.add(Dense(4, activation='relu'))
cnn.add(Dense(1, activation='sigmoid'))


cnn.compile(loss='binary_crossentropy', optimizer="adam")


train_datagen = ImageDataGenerator(
        rescale=1./255,
        shear_range=0.2,
        zoom_range=0.2,
        horizontal_flip=True)

test_datagen = ImageDataGenerator(rescale=1./255)

# Use 'categorical' class_mode in the generator
train_generator = train_datagen.flow_from_directory(
    r"C:\Users\srija\Desktop\study\project\Deep Learning\dog-cat-full-dataset\data\train",
    target_size=(64, 64),
    batch_size=32,
    class_mode='binary'  
)

test_generator = test_datagen.flow_from_directory(
    r"C:\Users\srija\Desktop\study\project\Deep Learning\dog-cat-full-dataset\data\test",
    target_size=(64, 64),
    batch_size=32,
    class_mode='binary'
)

cnn.fit(train_generator, steps_per_epoch=20, epochs=5, validation_data=test_generator)


from keras.preprocessing import image


img = image.load_img(r"C:\Users\srija\Desktop\study\project\Deep Learning\dog-cat-full-dataset\data\train\cats\cat.35.jpg", target_size=(64, 64))


img = image.img_to_array(img)


import numpy as np
img = np.expand_dims(img, axis=0)


p = cnn.predict(img)


if p[0][0] < 0.5  : 
    print("Dog")
else : 
    print("Cat")
    


print(train_generator.class_indices)



