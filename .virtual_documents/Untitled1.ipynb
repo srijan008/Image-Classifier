import tensorflow


from keras.layers import Dense, Conv2D, MaxPooling2D, Flatten
from keras.models import Sequential


cnn = Sequential()


cnn.add(Conv2D()
